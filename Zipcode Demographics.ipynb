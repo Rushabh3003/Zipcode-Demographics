{
 "cells": [
  {
   "cell_type": "code",
   "execution_count": 4,
   "metadata": {
    "collapsed": false
   },
   "outputs": [],
   "source": [
    "#importing libraries\n",
    "import numpy as np\n",
    "from bs4 import BeautifulSoup\n",
    "import pandas as pd\n",
    "import requests"
   ]
  },
  {
   "cell_type": "code",
   "execution_count": 5,
   "metadata": {
    "collapsed": false
   },
   "outputs": [],
   "source": [
    "#Working with Chicago Zipcodes\n",
    "zips=[]\n",
    "with open('/Users/rushabh/Desktop/Internship/Chicago Zipcodes.txt','r') as f:\n",
    "    for line in f:\n",
    "        zips.append(line)\n",
    "        zipcode=line.split(\" \")"
   ]
  },
  {
   "cell_type": "code",
   "execution_count": 6,
   "metadata": {
    "collapsed": false
   },
   "outputs": [],
   "source": [
    "#Running the webscraping algorithm to save all the population of particular ethnicities in different lists\n",
    "base='http://www.city-data.com/zips/'\n",
    "zip_dict={}\n",
    "white=[]\n",
    "aa=[]\n",
    "ai=[]\n",
    "asian=[]\n",
    "hawaiian=[]\n",
    "other=[]\n",
    "two_races=[]\n",
    "hispanic=[]\n",
    "for zc in zipcode:\n",
    "    url=base + str(zc) + '.html'\n",
    "    r = requests.get(url)\n",
    "    html_doc=r.text\n",
    "    soup=BeautifulSoup(html_doc)\n",
    "    data = soup.find_all('span', attrs={'class': 'badge'})\n",
    "    white.append(data[0].text)\n",
    "    aa.append(data[1].text)\n",
    "    ai.append(data[2].text)\n",
    "    asian.append(data[3].text)\n",
    "    hawaiian.append(data[4].text)\n",
    "    other.append(data[5].text)\n",
    "    two_races.append(data[6].text)\n",
    "    hispanic.append(data[7].text)"
   ]
  },
  {
   "cell_type": "code",
   "execution_count": 7,
   "metadata": {
    "collapsed": false
   },
   "outputs": [],
   "source": [
    "#Combining all the lists and creating a dataframe\n",
    "chicago = pd.DataFrame({'Zipcode':zipcode,'White':white,'African American':aa,'Indian American':ai,\n",
    "                       'Asian':asian,'Hawaiian':hawaiian,'Other Races':other,'Two Races':two_races,\n",
    "                        'Hispanic':hispanic}, columns = ['Zipcode','White','African American','Indian American',\n",
    "                                                           'Asian','Hawaiian','Other Races','Two Races','Hispanic'])"
   ]
  },
  {
   "cell_type": "code",
   "execution_count": 8,
   "metadata": {
    "collapsed": false
   },
   "outputs": [
    {
     "data": {
      "text/html": [
       "<div>\n",
       "<table border=\"1\" class=\"dataframe\">\n",
       "  <thead>\n",
       "    <tr style=\"text-align: right;\">\n",
       "      <th></th>\n",
       "      <th>Zipcode</th>\n",
       "      <th>White</th>\n",
       "      <th>African American</th>\n",
       "      <th>Indian American</th>\n",
       "      <th>Asian</th>\n",
       "      <th>Hawaiian</th>\n",
       "      <th>Other Races</th>\n",
       "      <th>Two Races</th>\n",
       "      <th>Hispanic</th>\n",
       "    </tr>\n",
       "  </thead>\n",
       "  <tbody>\n",
       "    <tr>\n",
       "      <th>0</th>\n",
       "      <td>60007</td>\n",
       "      <td>26,268</td>\n",
       "      <td>450</td>\n",
       "      <td>44</td>\n",
       "      <td>3,349</td>\n",
       "      <td>4</td>\n",
       "      <td>24</td>\n",
       "      <td>463</td>\n",
       "      <td>3,218</td>\n",
       "    </tr>\n",
       "    <tr>\n",
       "      <th>1</th>\n",
       "      <td>60018</td>\n",
       "      <td>16,296</td>\n",
       "      <td>351</td>\n",
       "      <td>48</td>\n",
       "      <td>2,723</td>\n",
       "      <td>5</td>\n",
       "      <td>48</td>\n",
       "      <td>404</td>\n",
       "      <td>10,224</td>\n",
       "    </tr>\n",
       "    <tr>\n",
       "      <th>2</th>\n",
       "      <td>60068</td>\n",
       "      <td>33,737</td>\n",
       "      <td>168</td>\n",
       "      <td>19</td>\n",
       "      <td>1,373</td>\n",
       "      <td>4</td>\n",
       "      <td>36</td>\n",
       "      <td>362</td>\n",
       "      <td>1,776</td>\n",
       "    </tr>\n",
       "    <tr>\n",
       "      <th>3</th>\n",
       "      <td>60106</td>\n",
       "      <td>9,338</td>\n",
       "      <td>606</td>\n",
       "      <td>35</td>\n",
       "      <td>914</td>\n",
       "      <td>3</td>\n",
       "      <td>41</td>\n",
       "      <td>202</td>\n",
       "      <td>9,170</td>\n",
       "    </tr>\n",
       "    <tr>\n",
       "      <th>4</th>\n",
       "      <td>60131</td>\n",
       "      <td>9,473</td>\n",
       "      <td>166</td>\n",
       "      <td>25</td>\n",
       "      <td>530</td>\n",
       "      <td>1</td>\n",
       "      <td>13</td>\n",
       "      <td>108</td>\n",
       "      <td>7,781</td>\n",
       "    </tr>\n",
       "  </tbody>\n",
       "</table>\n",
       "</div>"
      ],
      "text/plain": [
       "  Zipcode   White African American Indian American  Asian Hawaiian  \\\n",
       "0   60007  26,268              450              44  3,349        4   \n",
       "1   60018  16,296              351              48  2,723        5   \n",
       "2   60068  33,737              168              19  1,373        4   \n",
       "3   60106   9,338              606              35    914        3   \n",
       "4   60131   9,473              166              25    530        1   \n",
       "\n",
       "  Other Races Two Races Hispanic  \n",
       "0          24       463    3,218  \n",
       "1          48       404   10,224  \n",
       "2          36       362    1,776  \n",
       "3          41       202    9,170  \n",
       "4          13       108    7,781  "
      ]
     },
     "execution_count": 8,
     "metadata": {},
     "output_type": "execute_result"
    }
   ],
   "source": [
    "chicago.head()"
   ]
  },
  {
   "cell_type": "code",
   "execution_count": null,
   "metadata": {
    "collapsed": true
   },
   "outputs": [],
   "source": []
  }
 ],
 "metadata": {
  "kernelspec": {
   "display_name": "Python 2",
   "language": "python",
   "name": "python2"
  },
  "language_info": {
   "codemirror_mode": {
    "name": "ipython",
    "version": 2
   },
   "file_extension": ".py",
   "mimetype": "text/x-python",
   "name": "python",
   "nbconvert_exporter": "python",
   "pygments_lexer": "ipython2",
   "version": "2.7.13"
  }
 },
 "nbformat": 4,
 "nbformat_minor": 2
}
