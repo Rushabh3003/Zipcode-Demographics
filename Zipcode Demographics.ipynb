{
 "cells": [
  {
   "cell_type": "code",
   "execution_count": 1,
   "metadata": {
    "collapsed": false
   },
   "outputs": [],
   "source": [
    "#importing libraries\n",
    "import numpy as np\n",
    "from bs4 import BeautifulSoup\n",
    "import pandas as pd\n",
    "import requests"
   ]
  },
  {
   "cell_type": "code",
   "execution_count": 2,
   "metadata": {
    "collapsed": false
   },
   "outputs": [],
   "source": [
    "#Working with Chicago Zipcodes\n",
    "zips=[]\n",
    "with open('/Users/rushabh/Desktop/Internship/Chicago Zipcodes.txt','r') as f:\n",
    "    for line in f:\n",
    "        zips.append(line)\n",
    "        zipcode=line.split(\" \")"
   ]
  },
  {
   "cell_type": "code",
   "execution_count": null,
   "metadata": {
    "collapsed": false
   },
   "outputs": [
    {
     "name": "stderr",
     "output_type": "stream",
     "text": [
      "//anaconda/lib/python2.7/site-packages/bs4/__init__.py:181: UserWarning: No parser was explicitly specified, so I'm using the best available HTML parser for this system (\"lxml\"). This usually isn't a problem, but if you run this code on another system, or in a different virtual environment, it may use a different parser and behave differently.\n",
      "\n",
      "The code that caused this warning is on line 174 of the file //anaconda/lib/python2.7/runpy.py. To get rid of this warning, change code that looks like this:\n",
      "\n",
      " BeautifulSoup([your markup])\n",
      "\n",
      "to this:\n",
      "\n",
      " BeautifulSoup([your markup], \"lxml\")\n",
      "\n",
      "  markup_type=markup_type))\n"
     ]
    }
   ],
   "source": [
    "#Running the webscraping algorithm to save all the population of particular ethnicities in different lists\n",
    "base='http://www.city-data.com/zips/'\n",
    "zip_dict={}\n",
    "white=[]\n",
    "aa=[]\n",
    "ai=[]\n",
    "asian=[]\n",
    "hawaiian=[]\n",
    "other=[]\n",
    "two_races=[]\n",
    "hispanic=[]\n",
    "for zc in zipcode:\n",
    "    url=base + str(zc) + '.html'\n",
    "    r = requests.get(url)\n",
    "    html_doc=r.text\n",
    "    soup=BeautifulSoup(html_doc)\n",
    "    data = soup.find_all('span', attrs={'class': 'badge'})\n",
    "    white.append(data[0].text)\n",
    "    aa.append(data[1].text)\n",
    "    ai.append(data[2].text)\n",
    "    asian.append(data[3].text)\n",
    "    hawaiian.append(data[4].text)\n",
    "    other.append(data[5].text)\n",
    "    two_races.append(data[6].text)\n",
    "    hispanic.append(data[7].text)"
   ]
  },
  {
   "cell_type": "code",
   "execution_count": 21,
   "metadata": {
    "collapsed": false
   },
   "outputs": [],
   "source": [
    "#Combining all the lists and creating a dataframe\n",
    "chicago = pd.DataFrame({'Zipcode':zipcode,'White':white,'Black':black,'Indian American':ai,\n",
    "                       'Asian':asian,'Hawaiian':hawaiian,'Other Races':other,'Two Races':two_races,\n",
    "                        'Hispanic':hispanic}, columns = ['Zipcode','White','Black','Indian American',\n",
    "                                                           'Asian','Hawaiian','Other Races','Two Races','Hispanic'])"
   ]
  },
  {
   "cell_type": "code",
   "execution_count": 29,
   "metadata": {
    "collapsed": false
   },
   "outputs": [
    {
     "data": {
      "text/html": [
       "<div>\n",
       "<table border=\"1\" class=\"dataframe\">\n",
       "  <thead>\n",
       "    <tr style=\"text-align: right;\">\n",
       "      <th></th>\n",
       "      <th>Zipcode</th>\n",
       "      <th>White</th>\n",
       "      <th>Black</th>\n",
       "      <th>Indian American</th>\n",
       "      <th>Asian</th>\n",
       "      <th>Hawaiian</th>\n",
       "      <th>Other Races</th>\n",
       "      <th>Two Races</th>\n",
       "      <th>Hispanic</th>\n",
       "    </tr>\n",
       "  </thead>\n",
       "  <tbody>\n",
       "    <tr>\n",
       "      <th>0</th>\n",
       "      <td>60007</td>\n",
       "      <td>26,268</td>\n",
       "      <td>450</td>\n",
       "      <td>44</td>\n",
       "      <td>3,349</td>\n",
       "      <td>4</td>\n",
       "      <td>24</td>\n",
       "      <td>463</td>\n",
       "      <td>3,218</td>\n",
       "    </tr>\n",
       "    <tr>\n",
       "      <th>1</th>\n",
       "      <td>60018</td>\n",
       "      <td>16,296</td>\n",
       "      <td>351</td>\n",
       "      <td>48</td>\n",
       "      <td>2,723</td>\n",
       "      <td>5</td>\n",
       "      <td>48</td>\n",
       "      <td>404</td>\n",
       "      <td>10,224</td>\n",
       "    </tr>\n",
       "    <tr>\n",
       "      <th>2</th>\n",
       "      <td>60068</td>\n",
       "      <td>33,737</td>\n",
       "      <td>168</td>\n",
       "      <td>19</td>\n",
       "      <td>1,373</td>\n",
       "      <td>4</td>\n",
       "      <td>36</td>\n",
       "      <td>362</td>\n",
       "      <td>1,776</td>\n",
       "    </tr>\n",
       "    <tr>\n",
       "      <th>3</th>\n",
       "      <td>60106</td>\n",
       "      <td>9,338</td>\n",
       "      <td>606</td>\n",
       "      <td>35</td>\n",
       "      <td>914</td>\n",
       "      <td>3</td>\n",
       "      <td>41</td>\n",
       "      <td>202</td>\n",
       "      <td>9,170</td>\n",
       "    </tr>\n",
       "    <tr>\n",
       "      <th>4</th>\n",
       "      <td>60131</td>\n",
       "      <td>9,473</td>\n",
       "      <td>166</td>\n",
       "      <td>25</td>\n",
       "      <td>530</td>\n",
       "      <td>1</td>\n",
       "      <td>13</td>\n",
       "      <td>108</td>\n",
       "      <td>7,781</td>\n",
       "    </tr>\n",
       "  </tbody>\n",
       "</table>\n",
       "</div>"
      ],
      "text/plain": [
       "  Zipcode   White Black Indian American  Asian Hawaiian Other Races Two Races  \\\n",
       "0   60007  26,268   450              44  3,349        4          24       463   \n",
       "1   60018  16,296   351              48  2,723        5          48       404   \n",
       "2   60068  33,737   168              19  1,373        4          36       362   \n",
       "3   60106   9,338   606              35    914        3          41       202   \n",
       "4   60131   9,473   166              25    530        1          13       108   \n",
       "\n",
       "  Hispanic  \n",
       "0    3,218  \n",
       "1   10,224  \n",
       "2    1,776  \n",
       "3    9,170  \n",
       "4    7,781  "
      ]
     },
     "execution_count": 29,
     "metadata": {},
     "output_type": "execute_result"
    }
   ],
   "source": [
    "chicago.head()"
   ]
  },
  {
   "cell_type": "code",
   "execution_count": 1,
   "metadata": {
    "collapsed": false
   },
   "outputs": [
    {
     "ename": "NameError",
     "evalue": "name 'chicago' is not defined",
     "output_type": "error",
     "traceback": [
      "\u001b[0;31m---------------------------------------------------------------------------\u001b[0m",
      "\u001b[0;31mNameError\u001b[0m                                 Traceback (most recent call last)",
      "\u001b[0;32m<ipython-input-1-e36b327e332c>\u001b[0m in \u001b[0;36m<module>\u001b[0;34m()\u001b[0m\n\u001b[1;32m      1\u001b[0m \u001b[0;31m#Saving that dataframe in a csv file\u001b[0m\u001b[0;34m\u001b[0m\u001b[0;34m\u001b[0m\u001b[0m\n\u001b[0;32m----> 2\u001b[0;31m \u001b[0mchicago\u001b[0m\u001b[0;34m.\u001b[0m\u001b[0mto_csv\u001b[0m\u001b[0;34m(\u001b[0m\u001b[0;34m'Chicago.csv'\u001b[0m\u001b[0;34m,\u001b[0m \u001b[0mindex\u001b[0m\u001b[0;34m=\u001b[0m\u001b[0mFalse\u001b[0m\u001b[0;34m)\u001b[0m\u001b[0;34m\u001b[0m\u001b[0m\n\u001b[0m",
      "\u001b[0;31mNameError\u001b[0m: name 'chicago' is not defined"
     ]
    }
   ],
   "source": [
    "#Saving that dataframe in a csv file\n",
    "chicago.to_csv('Chicago.csv', index=False)"
   ]
  },
  {
   "cell_type": "code",
   "execution_count": 3,
   "metadata": {
    "collapsed": true
   },
   "outputs": [],
   "source": [
    "MergedData=pd.read_csv('/Users/rushabh/Rushabh/Untitled Folder/Merged_Data.csv')"
   ]
  },
  {
   "cell_type": "code",
   "execution_count": 32,
   "metadata": {
    "collapsed": false
   },
   "outputs": [
    {
     "name": "stdout",
     "output_type": "stream",
     "text": [
      "1844 WORKING\n",
      "6604 WORKING\n",
      "6605 WORKING\n",
      "6607 WORKING\n",
      "7002 WORKING\n",
      "7010 WORKING\n",
      "7020 WORKING\n",
      "7022 WORKING\n",
      "7024 WORKING\n",
      "7030 WORKING\n",
      "7047 WORKING\n",
      "7074 WORKING\n",
      "7086 WORKING\n",
      "7087 WORKING\n",
      "7093 WORKING\n",
      "7094 WORKING\n",
      "7097 NOT WORKING\n",
      "7302 WORKING\n",
      "7304 WORKING\n",
      "7305 WORKING\n",
      "7306 WORKING\n",
      "7307 WORKING\n",
      "7401 WORKING\n",
      "7407 WORKING\n",
      "7430 WORKING\n",
      "7446 WORKING\n",
      "7601 WORKING\n",
      "7603 WORKING\n",
      "7605 WORKING\n",
      "7607 WORKING\n",
      "7608 WORKING\n",
      "7621 WORKING\n",
      "7624 WORKING\n",
      "7626 WORKING\n",
      "7628 WORKING\n",
      "7630 WORKING\n",
      "7631 WORKING\n",
      "7632 WORKING\n",
      "7642 WORKING\n",
      "7643 WORKING\n",
      "7644 WORKING\n",
      "7647 WORKING\n",
      "7650 WORKING\n",
      "7652 WORKING\n",
      "7656 WORKING\n",
      "7657 WORKING\n",
      "7660 WORKING\n",
      "7663 WORKING\n",
      "7666 WORKING\n",
      "7670 WORKING\n",
      "7675 WORKING\n",
      "7677 WORKING\n",
      "7903 NOT WORKING\n",
      "10601 WORKING\n",
      "19401 WORKING\n",
      "30013 WORKING\n",
      "33015 WORKING\n",
      "33161 WORKING\n",
      "33180 WORKING\n",
      "33313 WORKING\n",
      "93309 WORKING\n"
     ]
    }
   ],
   "source": [
    "#Running the webscraping algorithm to save all the population of particular ethnicities in different lists\n",
    "base='http://www.city-data.com/zips/'\n",
    "zipcode=[]\n",
    "white=[]\n",
    "black=[]\n",
    "ai=[]\n",
    "asian=[]\n",
    "hawaiian=[]\n",
    "other=[]\n",
    "two_races=[]\n",
    "hispanic=[]\n",
    "for zc in MergedData.Zip.unique():\n",
    "    if len(str(zc)) == 4:\n",
    "        url=base + '0' + str(zc) + '.html'\n",
    "    else: \n",
    "        url=base + str(zc) + '.html'\n",
    "    r = requests.get(url)\n",
    "    html_doc=r.text\n",
    "    soup=BeautifulSoup(html_doc)\n",
    "    data = soup.find_all('span', attrs={'class': 'badge'})\n",
    "    if data==[]:\n",
    "        print zc,'NOT WORKING'\n",
    "        continue\n",
    "    else:\n",
    "        print zc,'WORKING'\n",
    "        zipcode.append(zc)\n",
    "        white.append(data[0].text)\n",
    "        black.append(data[1].text)\n",
    "        ai.append(data[2].text)\n",
    "        asian.append(data[3].text)\n",
    "        hawaiian.append(data[4].text)\n",
    "        other.append(data[5].text)\n",
    "        two_races.append(data[6].text)\n",
    "        hispanic.append(data[7].text)"
   ]
  },
  {
   "cell_type": "code",
   "execution_count": 33,
   "metadata": {
    "collapsed": false
   },
   "outputs": [],
   "source": [
    "MergedData_Demographics = pd.DataFrame({'Zipcode':zipcode,'White':white,'Black':black,'Indian American':ai,\n",
    "                       'Asian':asian,'Hawaiian':hawaiian,'Other Races':other,'Two Races':two_races,\n",
    "                        'Hispanic':hispanic}, columns = ['Zipcode','White','Black','Indian American',\n",
    "                                                           'Asian','Hawaiian','Other Races','Two Races','Hispanic'])"
   ]
  },
  {
   "cell_type": "code",
   "execution_count": 35,
   "metadata": {
    "collapsed": false
   },
   "outputs": [],
   "source": [
    "MergedData_Demographics.to_csv('MergedData_Demographics.csv',index=False)"
   ]
  },
  {
   "cell_type": "code",
   "execution_count": null,
   "metadata": {
    "collapsed": true
   },
   "outputs": [],
   "source": []
  }
 ],
 "metadata": {
  "kernelspec": {
   "display_name": "Python 2",
   "language": "python",
   "name": "python2"
  },
  "language_info": {
   "codemirror_mode": {
    "name": "ipython",
    "version": 2
   },
   "file_extension": ".py",
   "mimetype": "text/x-python",
   "name": "python",
   "nbconvert_exporter": "python",
   "pygments_lexer": "ipython2",
   "version": "2.7.13"
  }
 },
 "nbformat": 4,
 "nbformat_minor": 2
}
